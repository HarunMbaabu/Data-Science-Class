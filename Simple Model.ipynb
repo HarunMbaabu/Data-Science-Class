{
 "cells": [
  {
   "cell_type": "code",
   "execution_count": null,
   "id": "6434668a-f668-476f-8ab5-2c99dc099e3d",
   "metadata": {},
   "outputs": [],
   "source": [
    "#import packages \n",
    "import seaborn as sns \n",
    "import matplotlib.pyplot as plt \n",
    "# from sklearn.tree import DecisionTreeClassifier\n",
    "from sklearn import svm \n",
    "from sklearn.model_selection import train_test_split \n",
    "\n",
    "dataset = sns.load_dataset(\"iris\") \n",
    "\n",
    "\n",
    "X = dataset.drop(columns=[\"species\"])\n",
    "y = dataset[\"species\"] \n",
    "\n",
    "\n",
    "X_train, X_test, y_train,y_test = train_test_split(X, y, test_size=0.2)\n",
    "\n",
    "\n",
    "# model  = DecisionTreeClassifier() \n",
    "model = svm.SVC(kernel=\"linear\")\n",
    "\n",
    "\n",
    "\n",
    "model.fit(X, y)\n",
    "result = model.predict([[4, 5,3,2]]) \n",
    "\n",
    "print(result) \n",
    "\n",
    "array(['versicolor'], dtype=object)\n",
    "model.score(X_test, y_test )"
   ]
  }
 ],
 "metadata": {
  "kernelspec": {
   "display_name": "Python 3",
   "language": "python",
   "name": "python3"
  },
  "language_info": {
   "codemirror_mode": {
    "name": "ipython",
    "version": 3
   },
   "file_extension": ".py",
   "mimetype": "text/x-python",
   "name": "python",
   "nbconvert_exporter": "python",
   "pygments_lexer": "ipython3",
   "version": "3.8.8"
  }
 },
 "nbformat": 4,
 "nbformat_minor": 5
}
