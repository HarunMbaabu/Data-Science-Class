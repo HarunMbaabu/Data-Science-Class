{
 "cells": [
  {
   "cell_type": "markdown",
   "metadata": {},
   "source": [
    "In this example we will be using test dataset for the plane detection project that willbe done as the capstone project."
   ]
  },
  {
   "cell_type": "code",
   "execution_count": 13,
   "metadata": {},
   "outputs": [
    {
     "data": {
      "text/html": [
       "<div>\n",
       "<style scoped>\n",
       "    .dataframe tbody tr th:only-of-type {\n",
       "        vertical-align: middle;\n",
       "    }\n",
       "\n",
       "    .dataframe tbody tr th {\n",
       "        vertical-align: top;\n",
       "    }\n",
       "\n",
       "    .dataframe thead th {\n",
       "        text-align: right;\n",
       "    }\n",
       "</style>\n",
       "<table border=\"1\" class=\"dataframe\">\n",
       "  <thead>\n",
       "    <tr style=\"text-align: right;\">\n",
       "      <th></th>\n",
       "      <th>filename</th>\n",
       "      <th>xmin</th>\n",
       "      <th>ymin</th>\n",
       "      <th>xmax</th>\n",
       "      <th>ymax</th>\n",
       "      <th>label</th>\n",
       "    </tr>\n",
       "  </thead>\n",
       "  <tbody>\n",
       "    <tr>\n",
       "      <th>0</th>\n",
       "      <td>img401.png</td>\n",
       "      <td>319</td>\n",
       "      <td>212</td>\n",
       "      <td>403</td>\n",
       "      <td>296</td>\n",
       "      <td>plane</td>\n",
       "    </tr>\n",
       "    <tr>\n",
       "      <th>1</th>\n",
       "      <td>img401.png</td>\n",
       "      <td>370</td>\n",
       "      <td>222</td>\n",
       "      <td>464</td>\n",
       "      <td>317</td>\n",
       "      <td>plane</td>\n",
       "    </tr>\n",
       "    <tr>\n",
       "      <th>2</th>\n",
       "      <td>img401.png</td>\n",
       "      <td>718</td>\n",
       "      <td>276</td>\n",
       "      <td>805</td>\n",
       "      <td>366</td>\n",
       "      <td>plane</td>\n",
       "    </tr>\n",
       "    <tr>\n",
       "      <th>3</th>\n",
       "      <td>img401.png</td>\n",
       "      <td>587</td>\n",
       "      <td>516</td>\n",
       "      <td>637</td>\n",
       "      <td>566</td>\n",
       "      <td>plane</td>\n",
       "    </tr>\n",
       "    <tr>\n",
       "      <th>4</th>\n",
       "      <td>img401.png</td>\n",
       "      <td>776</td>\n",
       "      <td>513</td>\n",
       "      <td>819</td>\n",
       "      <td>555</td>\n",
       "      <td>plane</td>\n",
       "    </tr>\n",
       "  </tbody>\n",
       "</table>\n",
       "</div>"
      ],
      "text/plain": [
       "     filename  xmin  ymin  xmax  ymax  label\n",
       "0  img401.png   319   212   403   296  plane\n",
       "1  img401.png   370   222   464   317  plane\n",
       "2  img401.png   718   276   805   366  plane\n",
       "3  img401.png   587   516   637   566  plane\n",
       "4  img401.png   776   513   819   555  plane"
      ]
     },
     "execution_count": 13,
     "metadata": {},
     "output_type": "execute_result"
    }
   ],
   "source": [
    "import pandas as pd\n",
    " \n",
    "import matplotlib.pyplot as plt\n",
    " \n",
    "from matplotlib import style\n",
    " \n",
    "style.use('fivethirtyeight')\n",
    " \n",
    "data= pd.read_csv(\"data.csv\")\n",
    "data.head()"
   ]
  },
  {
   "cell_type": "code",
   "execution_count": 14,
   "metadata": {},
   "outputs": [
    {
     "data": {
      "text/html": [
       "<div>\n",
       "<style scoped>\n",
       "    .dataframe tbody tr th:only-of-type {\n",
       "        vertical-align: middle;\n",
       "    }\n",
       "\n",
       "    .dataframe tbody tr th {\n",
       "        vertical-align: top;\n",
       "    }\n",
       "\n",
       "    .dataframe thead th {\n",
       "        text-align: right;\n",
       "    }\n",
       "</style>\n",
       "<table border=\"1\" class=\"dataframe\">\n",
       "  <thead>\n",
       "    <tr style=\"text-align: right;\">\n",
       "      <th></th>\n",
       "      <th>filename</th>\n",
       "      <th>xmin</th>\n",
       "      <th>ymin</th>\n",
       "      <th>xmax</th>\n",
       "      <th>ymax</th>\n",
       "      <th>label</th>\n",
       "    </tr>\n",
       "  </thead>\n",
       "  <tbody>\n",
       "    <tr>\n",
       "      <th>774</th>\n",
       "      <td>img500.png</td>\n",
       "      <td>258</td>\n",
       "      <td>129</td>\n",
       "      <td>293</td>\n",
       "      <td>162</td>\n",
       "      <td>plane</td>\n",
       "    </tr>\n",
       "    <tr>\n",
       "      <th>775</th>\n",
       "      <td>img500.png</td>\n",
       "      <td>900</td>\n",
       "      <td>75</td>\n",
       "      <td>960</td>\n",
       "      <td>136</td>\n",
       "      <td>plane</td>\n",
       "    </tr>\n",
       "    <tr>\n",
       "      <th>776</th>\n",
       "      <td>img500.png</td>\n",
       "      <td>812</td>\n",
       "      <td>136</td>\n",
       "      <td>914</td>\n",
       "      <td>236</td>\n",
       "      <td>plane</td>\n",
       "    </tr>\n",
       "    <tr>\n",
       "      <th>777</th>\n",
       "      <td>img500.png</td>\n",
       "      <td>538</td>\n",
       "      <td>558</td>\n",
       "      <td>624</td>\n",
       "      <td>647</td>\n",
       "      <td>plane</td>\n",
       "    </tr>\n",
       "    <tr>\n",
       "      <th>778</th>\n",
       "      <td>img500.png</td>\n",
       "      <td>386</td>\n",
       "      <td>224</td>\n",
       "      <td>448</td>\n",
       "      <td>283</td>\n",
       "      <td>plane</td>\n",
       "    </tr>\n",
       "  </tbody>\n",
       "</table>\n",
       "</div>"
      ],
      "text/plain": [
       "       filename  xmin  ymin  xmax  ymax  label\n",
       "774  img500.png   258   129   293   162  plane\n",
       "775  img500.png   900    75   960   136  plane\n",
       "776  img500.png   812   136   914   236  plane\n",
       "777  img500.png   538   558   624   647  plane\n",
       "778  img500.png   386   224   448   283  plane"
      ]
     },
     "execution_count": 14,
     "metadata": {},
     "output_type": "execute_result"
    }
   ],
   "source": [
    "data.tail()"
   ]
  },
  {
   "cell_type": "code",
   "execution_count": null,
   "metadata": {},
   "outputs": [],
   "source": [
    "data.shape"
   ]
  },
  {
   "cell_type": "code",
   "execution_count": null,
   "metadata": {},
   "outputs": [],
   "source": [
    "data.describe()"
   ]
  },
  {
   "cell_type": "code",
   "execution_count": null,
   "metadata": {},
   "outputs": [],
   "source": [
    "data.info()"
   ]
  },
  {
   "cell_type": "code",
   "execution_count": null,
   "metadata": {},
   "outputs": [],
   "source": [
    "data.isnull().sum()"
   ]
  },
  {
   "cell_type": "markdown",
   "metadata": {},
   "source": [
    "This is because our dataset got no missing value"
   ]
  },
  {
   "cell_type": "markdown",
   "metadata": {},
   "source": [
    "Research on the available methods of treating missing values"
   ]
  },
  {
   "cell_type": "code",
   "execution_count": null,
   "metadata": {},
   "outputs": [],
   "source": []
  }
 ],
 "metadata": {
  "kernelspec": {
   "display_name": "Python 3",
   "language": "python",
   "name": "python3"
  },
  "language_info": {
   "codemirror_mode": {
    "name": "ipython",
    "version": 3
   },
   "file_extension": ".py",
   "mimetype": "text/x-python",
   "name": "python",
   "nbconvert_exporter": "python",
   "pygments_lexer": "ipython3",
   "version": "3.7.3"
  }
 },
 "nbformat": 4,
 "nbformat_minor": 2
}
